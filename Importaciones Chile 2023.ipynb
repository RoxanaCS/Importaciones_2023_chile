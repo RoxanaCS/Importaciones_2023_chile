{
 "cells": [
  {
   "cell_type": "code",
   "execution_count": 1,
   "id": "f95a120a",
   "metadata": {},
   "outputs": [],
   "source": [
    "import pandas as pd\n",
    "import numpy as np\n",
    "import requests\n",
    "from bs4 import BeautifulSoup\n",
    "import re"
   ]
  },
  {
   "cell_type": "code",
   "execution_count": 18,
   "id": "1fd7193c",
   "metadata": {},
   "outputs": [
    {
     "name": "stdout",
     "output_type": "stream",
     "text": [
      "[<a class=\"text-primary text-break\" href=\"https://datos.gob.cl/dataset/2538ffb0-402f-4fbf-a706-5f7fbe271670/resource/0c4a852b-4e33-4cfb-a42c-9ab277154ee0/download/descripcion-y-estructura-de-datos-din.xlsx\" title=\"https://datos.gob.cl/dataset/2538ffb0-402f-4fbf-a706-5f7fbe271670/resource/0c4a852b-4e33-4cfb-a42c-9ab277154ee0/download/descripcion-y-estructura-de-datos-din.xlsx\">\n",
      "          https://datos.gob.cl/dataset/2538ffb0-402f-4fbf-a706-5f7fbe271670/resource/0c4a852b-4e33-4cfb-a42c-9ab277154ee0/download/descripcion-y-estructura-de-datos-din.xlsx\n",
      "        </a>]\n"
     ]
    }
   ],
   "source": [
    "# Realizar solicitud HTTP y obtener el contenido HTML de la página\n",
    "url = 'https://datos.gob.cl/dataset/registro-de-importacion-2022/resource/0c4a852b-4e33-4cfb-a42c-9ab277154ee0'\n",
    "response = requests.get(url)\n",
    "html = response.content\n",
    "# Crear objeto BeautifulSoup para analizar el HTML\n",
    "soup = BeautifulSoup(html, 'html.parser')\n",
    "# Encontrar todos los elementos <a> que contengan enlaces de descarga de archivos \n",
    "# y que tengan la clase 'linkdoc' (la encontramos al inspeccionar manualmente la página)\n",
    "enlaces= soup.find_all('a', class_ ='text-primary text-break')"
   ]
  },
  {
   "cell_type": "code",
   "execution_count": 19,
   "id": "971342a2",
   "metadata": {},
   "outputs": [
    {
     "name": "stdout",
     "output_type": "stream",
     "text": [
      "Archivo descargado: registro-de-importacion-2022.xlsx\n"
     ]
    }
   ],
   "source": [
    "archivo_nombre = 'registro-de-importacion-2022.xlsx'\n",
    "href = enlace.get('href')\n",
    "response = requests.get(href)   \n",
    "# Guardar el archivo\n",
    "with open(archivo_nombre, 'wb') as archivo:\n",
    "    archivo.write(response.content)\n",
    "    \n",
    "# Confirmar que se descargó el archivo\n",
    "print(f\"Archivo descargado: {archivo_nombre}\")"
   ]
  },
  {
   "cell_type": "code",
   "execution_count": 21,
   "id": "6957f0be",
   "metadata": {},
   "outputs": [
    {
     "name": "stdout",
     "output_type": "stream",
     "text": [
      "                   Datos DIN                                    Unnamed: 1  \\\n",
      "0  CAMPO - DIN -  ENCABEZADO                                         GLOSA   \n",
      "1              NUMENCRIPTADO   Nº Encriptado Identificador de la operación   \n",
      "2                  TPO_DOCTO                             Tipo de Operación   \n",
      "3                        ADU                              Código de Aduana   \n",
      "4                       FORM                                    Campo Form   \n",
      "\n",
      "  Unnamed: 2 Unnamed: 3 Unnamed: 4 Unnamed: 5  \n",
      "0        NaN       tipo      largo  precision  \n",
      "1        NaN     NUMBER         10        NaN  \n",
      "2        NaN     NUMBER          3        NaN  \n",
      "3        NaN     NUMBER          2        NaN  \n",
      "4        NaN     NUMBER          2        NaN  \n"
     ]
    }
   ],
   "source": [
    "# Lee el archivo Excel\n",
    "df = pd.read_excel('registro-de-importacion-2022.xlsx')\n",
    "\n",
    "# Muestra las primeras filas del DataFrame\n",
    "print(df.head())"
   ]
  },
  {
   "cell_type": "code",
   "execution_count": null,
   "id": "f02323cf",
   "metadata": {},
   "outputs": [],
   "source": []
  }
 ],
 "metadata": {
  "kernelspec": {
   "display_name": "Python 3 (ipykernel)",
   "language": "python",
   "name": "python3"
  },
  "language_info": {
   "codemirror_mode": {
    "name": "ipython",
    "version": 3
   },
   "file_extension": ".py",
   "mimetype": "text/x-python",
   "name": "python",
   "nbconvert_exporter": "python",
   "pygments_lexer": "ipython3",
   "version": "3.10.9"
  }
 },
 "nbformat": 4,
 "nbformat_minor": 5
}
