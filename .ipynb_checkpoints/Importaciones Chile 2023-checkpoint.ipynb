{
 "cells": [
  {
   "cell_type": "code",
   "execution_count": 1,
   "id": "862d46af",
   "metadata": {},
   "outputs": [],
   "source": [
    "import pandas as pd\n",
    "import numpy as np\n",
    "import requests\n",
    "from bs4 import BeautifulSoup\n",
    "import re"
   ]
  },
  {
   "cell_type": "code",
   "execution_count": null,
   "id": "d6bcad9a",
   "metadata": {},
   "outputs": [],
   "source": [
    "## REALIZAR ESTE PASO SOLO 1 VEZ"
   ]
  },
  {
   "cell_type": "code",
   "execution_count": 18,
   "id": "c74d9089",
   "metadata": {},
   "outputs": [
    {
     "name": "stdout",
     "output_type": "stream",
     "text": [
      "[<a class=\"text-primary text-break\" href=\"https://datos.gob.cl/dataset/2538ffb0-402f-4fbf-a706-5f7fbe271670/resource/0c4a852b-4e33-4cfb-a42c-9ab277154ee0/download/descripcion-y-estructura-de-datos-din.xlsx\" title=\"https://datos.gob.cl/dataset/2538ffb0-402f-4fbf-a706-5f7fbe271670/resource/0c4a852b-4e33-4cfb-a42c-9ab277154ee0/download/descripcion-y-estructura-de-datos-din.xlsx\">\n",
      "          https://datos.gob.cl/dataset/2538ffb0-402f-4fbf-a706-5f7fbe271670/resource/0c4a852b-4e33-4cfb-a42c-9ab277154ee0/download/descripcion-y-estructura-de-datos-din.xlsx\n",
      "        </a>]\n"
     ]
    }
   ],
   "source": [
    "# Realizar solicitud HTTP y obtener el contenido HTML de la página\n",
    "url = 'https://datos.gob.cl/dataset/registro-de-importacion-2022/resource/0c4a852b-4e33-4cfb-a42c-9ab277154ee0'\n",
    "response = requests.get(url)\n",
    "html = response.content\n",
    "# Crear objeto BeautifulSoup para analizar el HTML\n",
    "soup = BeautifulSoup(html, 'html.parser')\n",
    "# Encontrar el elemento de interés\n",
    "enlaces= soup.find_all('a', class_ ='text-primary text-break')"
   ]
  },
  {
   "cell_type": "code",
   "execution_count": 19,
   "id": "25f1029f",
   "metadata": {},
   "outputs": [
    {
     "name": "stdout",
     "output_type": "stream",
     "text": [
      "Archivo descargado: registro-de-importacion-2022.xlsx\n"
     ]
    }
   ],
   "source": [
    "archivo_nombre = 'registro-de-importacion-2022.xlsx'\n",
    "href = enlace.get('href')\n",
    "response = requests.get(href)   \n",
    "# Guardar el archivo\n",
    "with open(archivo_nombre, 'wb') as archivo:\n",
    "    archivo.write(response.content)\n",
    "    \n",
    "# Confirmar que se descargó el archivo\n",
    "print(f\"Archivo descargado: {archivo_nombre}\")"
   ]
  },
  {
   "cell_type": "code",
   "execution_count": null,
   "id": "20fa4ff5",
   "metadata": {},
   "outputs": [],
   "source": [
    "## RETOMAR DESDE AQUÍ, EL ARCHIVO YA ESTÁ DESCARGADO"
   ]
  },
  {
   "cell_type": "code",
   "execution_count": 22,
   "id": "b3528069",
   "metadata": {},
   "outputs": [
    {
     "data": {
      "text/html": [
       "<div>\n",
       "<style scoped>\n",
       "    .dataframe tbody tr th:only-of-type {\n",
       "        vertical-align: middle;\n",
       "    }\n",
       "\n",
       "    .dataframe tbody tr th {\n",
       "        vertical-align: top;\n",
       "    }\n",
       "\n",
       "    .dataframe thead th {\n",
       "        text-align: right;\n",
       "    }\n",
       "</style>\n",
       "<table border=\"1\" class=\"dataframe\">\n",
       "  <thead>\n",
       "    <tr style=\"text-align: right;\">\n",
       "      <th></th>\n",
       "      <th>Datos DIN</th>\n",
       "      <th>Unnamed: 1</th>\n",
       "      <th>Unnamed: 2</th>\n",
       "      <th>Unnamed: 3</th>\n",
       "      <th>Unnamed: 4</th>\n",
       "      <th>Unnamed: 5</th>\n",
       "    </tr>\n",
       "  </thead>\n",
       "  <tbody>\n",
       "    <tr>\n",
       "      <th>0</th>\n",
       "      <td>CAMPO - DIN -  ENCABEZADO</td>\n",
       "      <td>GLOSA</td>\n",
       "      <td>NaN</td>\n",
       "      <td>tipo</td>\n",
       "      <td>largo</td>\n",
       "      <td>precision</td>\n",
       "    </tr>\n",
       "    <tr>\n",
       "      <th>1</th>\n",
       "      <td>NUMENCRIPTADO</td>\n",
       "      <td>Nº Encriptado Identificador de la operación</td>\n",
       "      <td>NaN</td>\n",
       "      <td>NUMBER</td>\n",
       "      <td>10</td>\n",
       "      <td>NaN</td>\n",
       "    </tr>\n",
       "    <tr>\n",
       "      <th>2</th>\n",
       "      <td>TPO_DOCTO</td>\n",
       "      <td>Tipo de Operación</td>\n",
       "      <td>NaN</td>\n",
       "      <td>NUMBER</td>\n",
       "      <td>3</td>\n",
       "      <td>NaN</td>\n",
       "    </tr>\n",
       "    <tr>\n",
       "      <th>3</th>\n",
       "      <td>ADU</td>\n",
       "      <td>Código de Aduana</td>\n",
       "      <td>NaN</td>\n",
       "      <td>NUMBER</td>\n",
       "      <td>2</td>\n",
       "      <td>NaN</td>\n",
       "    </tr>\n",
       "    <tr>\n",
       "      <th>4</th>\n",
       "      <td>FORM</td>\n",
       "      <td>Campo Form</td>\n",
       "      <td>NaN</td>\n",
       "      <td>NUMBER</td>\n",
       "      <td>2</td>\n",
       "      <td>NaN</td>\n",
       "    </tr>\n",
       "  </tbody>\n",
       "</table>\n",
       "</div>"
      ],
      "text/plain": [
       "                   Datos DIN                                    Unnamed: 1  \\\n",
       "0  CAMPO - DIN -  ENCABEZADO                                         GLOSA   \n",
       "1              NUMENCRIPTADO   Nº Encriptado Identificador de la operación   \n",
       "2                  TPO_DOCTO                             Tipo de Operación   \n",
       "3                        ADU                              Código de Aduana   \n",
       "4                       FORM                                    Campo Form   \n",
       "\n",
       "  Unnamed: 2 Unnamed: 3 Unnamed: 4 Unnamed: 5  \n",
       "0        NaN       tipo      largo  precision  \n",
       "1        NaN     NUMBER         10        NaN  \n",
       "2        NaN     NUMBER          3        NaN  \n",
       "3        NaN     NUMBER          2        NaN  \n",
       "4        NaN     NUMBER          2        NaN  "
      ]
     },
     "execution_count": 22,
     "metadata": {},
     "output_type": "execute_result"
    }
   ],
   "source": [
    "# Lee el archivo Excel\n",
    "df = pd.read_excel('registro-de-importacion-2022.xlsx')\n",
    "\n",
    "df.head()"
   ]
  },
  {
   "cell_type": "code",
   "execution_count": null,
   "id": "1d01bf1b",
   "metadata": {},
   "outputs": [],
   "source": []
  }
 ],
 "metadata": {
  "kernelspec": {
   "display_name": "Python 3 (ipykernel)",
   "language": "python",
   "name": "python3"
  },
  "language_info": {
   "codemirror_mode": {
    "name": "ipython",
    "version": 3
   },
   "file_extension": ".py",
   "mimetype": "text/x-python",
   "name": "python",
   "nbconvert_exporter": "python",
   "pygments_lexer": "ipython3",
   "version": "3.10.9"
  }
 },
 "nbformat": 4,
 "nbformat_minor": 5
}
